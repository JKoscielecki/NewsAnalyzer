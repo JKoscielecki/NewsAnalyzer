{
 "cells": [
  {
   "cell_type": "code",
   "execution_count": 1,
   "metadata": {},
   "outputs": [],
   "source": [
    "import pandas as pd\n",
    "import requests\n",
    "import json\n",
    "from newsapi import NewsApiClient\n",
    "\n",
    "# Init\n",
    "newsapi = NewsApiClient(api_key=' ')\n",
    "\n",
    "# /v2/top-headlines/\n",
    "sources = newsapi.get_sources()\n"
   ]
  },
  {
   "cell_type": "code",
   "execution_count": 2,
   "metadata": {},
   "outputs": [],
   "source": [
    "news_station_ids = \"the-verge,the-wall-street-journal,the-washington-post,the-washington-times,time,usa-today,vice-news,wired,the-next-web,techcrunch,techcrunch-cn,techradar,the-american-conservative,reddit-r-all,reuters,national-geographic,national-review,nbc-news,news24,new-scientist,news-com-au,newsweek,new-york-magazine,next-big-future,independent,google-news,google-news-ar,google-news-au,google-news-br,google-news-ca,google-news-fr,google-news-in,google-news-is,google-news-it,google-news-ru,google-news-sa,google-news-uk,bild,blasting-news-br,bleacher-report,bloomberg,breitbart-news,business-insider,business-insider-uk,buzzfeed,cbc-news,cbs-news,cnn,bbc-news,abc-news,abc-news-au,aftenposten,al-jazeera-english\""
   ]
  },
  {
   "cell_type": "code",
   "execution_count": null,
   "metadata": {},
   "outputs": [],
   "source": [
    "for source in sources['sources']:\n",
    "    print(source['id'])"
   ]
  },
  {
   "cell_type": "code",
   "execution_count": null,
   "metadata": {},
   "outputs": [],
   "source": [
    "for i in range(5,327):\n",
    "    all_articles = newsapi.get_everything(sources=news_station_ids,\n",
    "                                    #   domains='bbc.co.uk,techcrunch.com',\n",
    "                                    from_param='2024-02-01',\n",
    "                                      #  to='2024-02-01',\n",
    "                                      language='en',\n",
    "                                      # sort_by='relevancy',\n",
    "                                      page=i)\n",
    "    with open(f'../data/file_{i}.json', 'w') as json_file:\n",
    "        json.dump(all_articles, json_file)\n",
    "    "
   ]
  },
  {
   "cell_type": "code",
   "execution_count": 2,
   "metadata": {},
   "outputs": [],
   "source": [
    "import os\n",
    "\n",
    "directory = '../data/'\n",
    "dataframes = []\n",
    "\n",
    "for filename in os.listdir(directory):\n",
    "    if filename.endswith('.json'):  \n",
    "        file_path = os.path.join(directory, filename)  \n",
    "        with open(file_path, 'r') as f:  \n",
    "            data = json.load(f) \n",
    "            df = pd.json_normalize(data, record_path=['articles'])\n",
    "            dataframes.append(df)\n",
    "\n",
    "full_df = pd.concat(dataframes, ignore_index=True)"
   ]
  },
  {
   "cell_type": "code",
   "execution_count": 19,
   "metadata": {},
   "outputs": [
    {
     "data": {
      "text/html": [
       "<div>\n",
       "<style scoped>\n",
       "    .dataframe tbody tr th:only-of-type {\n",
       "        vertical-align: middle;\n",
       "    }\n",
       "\n",
       "    .dataframe tbody tr th {\n",
       "        vertical-align: top;\n",
       "    }\n",
       "\n",
       "    .dataframe thead th {\n",
       "        text-align: right;\n",
       "    }\n",
       "</style>\n",
       "<table border=\"1\" class=\"dataframe\">\n",
       "  <thead>\n",
       "    <tr style=\"text-align: right;\">\n",
       "      <th></th>\n",
       "      <th>author</th>\n",
       "      <th>title</th>\n",
       "      <th>description</th>\n",
       "      <th>url</th>\n",
       "      <th>urlToImage</th>\n",
       "      <th>publishedAt</th>\n",
       "      <th>content</th>\n",
       "      <th>source.id</th>\n",
       "      <th>source.name</th>\n",
       "    </tr>\n",
       "  </thead>\n",
       "  <tbody>\n",
       "    <tr>\n",
       "      <th>0</th>\n",
       "      <td>https://www.facebook.com/bbcnews</td>\n",
       "      <td>Students unable to afford food for days - union</td>\n",
       "      <td>A student union leader says the situation for ...</td>\n",
       "      <td>https://www.bbc.co.uk/news/uk-england-lancashi...</td>\n",
       "      <td>https://ichef.bbci.co.uk/news/1024/branded_new...</td>\n",
       "      <td>2024-02-17T09:25:15Z</td>\n",
       "      <td>Students caught up in the cost-of-living crisi...</td>\n",
       "      <td>bbc-news</td>\n",
       "      <td>BBC News</td>\n",
       "    </tr>\n",
       "  </tbody>\n",
       "</table>\n",
       "</div>"
      ],
      "text/plain": [
       "                             author  \\\n",
       "0  https://www.facebook.com/bbcnews   \n",
       "\n",
       "                                             title  \\\n",
       "0  Students unable to afford food for days - union   \n",
       "\n",
       "                                         description  \\\n",
       "0  A student union leader says the situation for ...   \n",
       "\n",
       "                                                 url  \\\n",
       "0  https://www.bbc.co.uk/news/uk-england-lancashi...   \n",
       "\n",
       "                                          urlToImage           publishedAt  \\\n",
       "0  https://ichef.bbci.co.uk/news/1024/branded_new...  2024-02-17T09:25:15Z   \n",
       "\n",
       "                                             content source.id source.name  \n",
       "0  Students caught up in the cost-of-living crisi...  bbc-news    BBC News  "
      ]
     },
     "execution_count": 19,
     "metadata": {},
     "output_type": "execute_result"
    }
   ],
   "source": [
    "full_df.head(1)"
   ]
  },
  {
   "cell_type": "code",
   "execution_count": 20,
   "metadata": {},
   "outputs": [
    {
     "data": {
      "text/plain": [
       "500"
      ]
     },
     "execution_count": 20,
     "metadata": {},
     "output_type": "execute_result"
    }
   ],
   "source": [
    "full_df.shape[0]"
   ]
  },
  {
   "cell_type": "code",
   "execution_count": 23,
   "metadata": {},
   "outputs": [
    {
     "data": {
      "text/plain": [
       "'Students unable to afford food for days - union'"
      ]
     },
     "execution_count": 23,
     "metadata": {},
     "output_type": "execute_result"
    }
   ],
   "source": [
    "full_df['title'].iloc[0]"
   ]
  },
  {
   "cell_type": "code",
   "execution_count": 26,
   "metadata": {},
   "outputs": [
    {
     "name": "stderr",
     "output_type": "stream",
     "text": [
      "[nltk_data] Downloading package stopwords to\n",
      "[nltk_data]     C:\\Users\\Jakub\\AppData\\Roaming\\nltk_data...\n",
      "[nltk_data]   Unzipping corpora\\stopwords.zip.\n"
     ]
    }
   ],
   "source": [
    "import gensim\n",
    "import gensim.corpora as corpora\n",
    "from gensim.models import LdaModel\n",
    "from nltk.corpus import stopwords\n",
    "import nltk\n",
    "import pyLDAvis.gensim_models\n",
    "import pyLDAvis\n",
    "import re\n",
    "from nltk.stem.porter import PorterStemmer\n",
    "\n",
    "# Assuming you already have your DataFrame loaded as full_df\n",
    "# full_df = pd.read_csv('your_data.csv') # Example if you're loading from a CSV\n",
    "\n",
    "# 1. Pre-process the text data\n",
    "nltk.download('stopwords')\n",
    "stop_words = stopwords.words('english')\n",
    "porter = PorterStemmer()\n",
    "\n",
    "def preprocess(text):\n",
    "    text = re.sub(r'\\W', ' ', str(text))\n",
    "    text = text.lower()\n",
    "    text = text.split()\n",
    "    text = [porter.stem(word) for word in text if word not in stop_words]\n",
    "    text = [word for word in text if len(word) > 3] # removing short words\n",
    "    return text\n",
    "\n",
    "# Apply preprocessing to each title\n",
    "data = full_df['title'].map(preprocess)\n",
    "\n",
    "# 2. Create Dictionary and Corpus\n",
    "id2word = corpora.Dictionary(data)\n",
    "corpus = [id2word.doc2bow(text) for text in data]\n",
    "\n",
    "# 3. Build LDA model\n",
    "lda_model = LdaModel(corpus=corpus,\n",
    "                     id2word=id2word,\n",
    "                     num_topics=10, \n",
    "                     random_state=100,\n",
    "                     update_every=1,\n",
    "                     chunksize=100,\n",
    "                     passes=10,\n",
    "                     alpha='auto')\n",
    "\n",
    "# 4. Visualize the topics\n",
    "pyLDAvis.enable_notebook()\n",
    "vis = pyLDAvis.gensim_models.prepare(lda_model, corpus, id2word)\n",
    "pyLDAvis.save_html(vis, 'lda_visualization.html')\n"
   ]
  },
  {
   "cell_type": "code",
   "execution_count": 3,
   "metadata": {},
   "outputs": [
    {
     "name": "stderr",
     "output_type": "stream",
     "text": [
      "c:\\Users\\Jakub\\AppData\\Local\\Programs\\Python\\Python311\\Lib\\site-packages\\tqdm\\auto.py:21: TqdmWarning: IProgress not found. Please update jupyter and ipywidgets. See https://ipywidgets.readthedocs.io/en/stable/user_install.html\n",
      "  from .autonotebook import tqdm as notebook_tqdm\n"
     ]
    },
    {
     "name": "stdout",
     "output_type": "stream",
     "text": [
      "WARNING:tensorflow:From c:\\Users\\Jakub\\AppData\\Local\\Programs\\Python\\Python311\\Lib\\site-packages\\keras\\src\\losses.py:2976: The name tf.losses.sparse_softmax_cross_entropy is deprecated. Please use tf.compat.v1.losses.sparse_softmax_cross_entropy instead.\n",
      "\n"
     ]
    },
    {
     "name": "stderr",
     "output_type": "stream",
     "text": [
      "No model was supplied, defaulted to distilbert-base-uncased-finetuned-sst-2-english and revision af0f99b (https://huggingface.co/distilbert-base-uncased-finetuned-sst-2-english).\n",
      "Using a pipeline without specifying a model name and revision in production is not recommended.\n",
      "model.safetensors: 100%|██████████| 268M/268M [00:16<00:00, 16.7MB/s] \n",
      "c:\\Users\\Jakub\\AppData\\Local\\Programs\\Python\\Python311\\Lib\\site-packages\\huggingface_hub\\file_download.py:149: UserWarning: `huggingface_hub` cache-system uses symlinks by default to efficiently store duplicated files but your machine does not support them in C:\\Users\\Jakub\\.cache\\huggingface\\hub\\models--distilbert-base-uncased-finetuned-sst-2-english. Caching files will still work but in a degraded version that might require more space on your disk. This warning can be disabled by setting the `HF_HUB_DISABLE_SYMLINKS_WARNING` environment variable. For more details, see https://huggingface.co/docs/huggingface_hub/how-to-cache#limitations.\n",
      "To support symlinks on Windows, you either need to activate Developer Mode or to run Python as an administrator. In order to see activate developer mode, see this article: https://docs.microsoft.com/en-us/windows/apps/get-started/enable-your-device-for-development\n",
      "  warnings.warn(message)\n",
      "tokenizer_config.json: 100%|██████████| 48.0/48.0 [00:00<00:00, 49.1kB/s]\n",
      "vocab.txt: 100%|██████████| 232k/232k [00:00<00:00, 1.01MB/s]\n"
     ]
    },
    {
     "name": "stdout",
     "output_type": "stream",
     "text": [
      "Aspect: battery, Sentiment: NEGATIVE, Score: 0.999439537525177\n",
      "Aspect: life, Sentiment: NEGATIVE, Score: 0.999439537525177\n",
      "Aspect: smartphone, Sentiment: NEGATIVE, Score: 0.999439537525177\n",
      "Aspect: camera, Sentiment: NEGATIVE, Score: 0.9987188577651978\n",
      "Aspect: phone, Sentiment: NEGATIVE, Score: 0.9987188577651978\n",
      "Aspect: interface, Sentiment: NEGATIVE, Score: 0.9987188577651978\n"
     ]
    }
   ],
   "source": [
    "import spacy\n",
    "from transformers import pipeline\n",
    "\n",
    "# Load Spacy's English model\n",
    "nlp = spacy.load(\"en_core_web_sm\")\n",
    "\n",
    "# Load sentiment analysis pipeline from Hugging Face\n",
    "sentiment_pipeline = pipeline(\"sentiment-analysis\")\n",
    "\n",
    "# Example text\n",
    "texts = [\"The battery life of this smartphone is too short\", \"I love the camera on this phone, but the interface is clunky.\"]\n",
    "\n",
    "# Function to perform ABSA\n",
    "def absa(texts):\n",
    "    results = []\n",
    "    for text in texts:\n",
    "        doc = nlp(text)\n",
    "        for token in doc:\n",
    "            # Assuming nouns as aspects for simplicity\n",
    "            if token.pos_ == \"NOUN\":\n",
    "                aspect = token.text\n",
    "                # Get sentiment for the aspect\n",
    "                sentiment = sentiment_pipeline(text)\n",
    "                results.append({\"aspect\": aspect, \"sentiment\": sentiment[0]})\n",
    "    return results\n",
    "\n",
    "# Perform ABSA on the example texts\n",
    "absa_results = absa(texts)\n",
    "for result in absa_results:\n",
    "    print(f\"Aspect: {result['aspect']}, Sentiment: {result['sentiment']['label']}, Score: {result['sentiment']['score']}\")\n",
    "\n"
   ]
  },
  {
   "cell_type": "code",
   "execution_count": 4,
   "metadata": {},
   "outputs": [
    {
     "data": {
      "text/plain": [
       "[{'aspect': 'battery',\n",
       "  'sentiment': {'label': 'NEGATIVE', 'score': 0.999439537525177}},\n",
       " {'aspect': 'life',\n",
       "  'sentiment': {'label': 'NEGATIVE', 'score': 0.999439537525177}},\n",
       " {'aspect': 'smartphone',\n",
       "  'sentiment': {'label': 'NEGATIVE', 'score': 0.999439537525177}},\n",
       " {'aspect': 'camera',\n",
       "  'sentiment': {'label': 'NEGATIVE', 'score': 0.9987188577651978}},\n",
       " {'aspect': 'phone',\n",
       "  'sentiment': {'label': 'NEGATIVE', 'score': 0.9987188577651978}},\n",
       " {'aspect': 'interface',\n",
       "  'sentiment': {'label': 'NEGATIVE', 'score': 0.9987188577651978}}]"
      ]
     },
     "execution_count": 4,
     "metadata": {},
     "output_type": "execute_result"
    }
   ],
   "source": [
    "absa_results"
   ]
  }
 ],
 "metadata": {
  "kernelspec": {
   "display_name": "Python 3",
   "language": "python",
   "name": "python3"
  },
  "language_info": {
   "codemirror_mode": {
    "name": "ipython",
    "version": 3
   },
   "file_extension": ".py",
   "mimetype": "text/x-python",
   "name": "python",
   "nbconvert_exporter": "python",
   "pygments_lexer": "ipython3",
   "version": "3.11.8"
  }
 },
 "nbformat": 4,
 "nbformat_minor": 2
}
